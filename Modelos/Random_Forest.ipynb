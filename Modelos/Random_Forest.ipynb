{
  "nbformat": 4,
  "nbformat_minor": 0,
  "metadata": {
    "kernelspec": {
      "display_name": "Python 3",
      "language": "python",
      "name": "python3"
    },
    "language_info": {
      "codemirror_mode": {
        "name": "ipython",
        "version": 3
      },
      "file_extension": ".py",
      "mimetype": "text/x-python",
      "name": "python",
      "nbconvert_exporter": "python",
      "pygments_lexer": "ipython3",
      "version": "3.8.3"
    },
    "colab": {
      "name": "Random Forest.ipynb",
      "provenance": [],
      "collapsed_sections": []
    }
  },
  "cells": [
    {
      "cell_type": "code",
      "metadata": {
        "id": "cTzyVFoAtxCm"
      },
      "source": [
        "import matplotlib.pyplot as plt\n",
        "import numpy as np\n",
        "import pandas as pd\n",
        "import seaborn as sns\n",
        "import matplotlib.pyplot as plt\n",
        "from sklearn.datasets import make_classification\n",
        "from sklearn.ensemble import ExtraTreesClassifier\n",
        "from sklearn.ensemble import RandomForestClassifier\n",
        "from sklearn.tree import DecisionTreeClassifier, export_graphviz\n",
        "from sklearn.model_selection import train_test_split, cross_val_score\n",
        "from sklearn import metrics\n",
        "from sklearn.metrics import confusion_matrix, accuracy_score\n",
        "from sklearn import preprocessing\n",
        "from sklearn.preprocessing import StandardScaler"
      ],
      "execution_count": null,
      "outputs": []
    },
    {
      "cell_type": "code",
      "metadata": {
        "id": "PcjLBi9UtxCn"
      },
      "source": [
        "features = pd.read_excel('features_1.xlsx')\n",
        "features = features.drop(columns=['Unnamed: 0'])\n",
        "conditions = [\n",
        "    (features['Label'] == 0),\n",
        "    (features['Label'] == 1),\n",
        "    (features['Label'] == 2),\n",
        "    (features['Label'] == 3),\n",
        "    (features['Label'] == 4),\n",
        "    (features['Label'] == 5)]\n",
        "choices = ['Quebra', 'Inclusão', 'Manchas', 'Corrosão Superficial por Pite', 'Carepa Incrustada', 'Marcas Superficiais']\n",
        "features['defeitos'] = np.select(conditions, choices)"
      ],
      "execution_count": null,
      "outputs": []
    },
    {
      "cell_type": "code",
      "metadata": {
        "colab": {
          "base_uri": "https://localhost:8080/"
        },
        "id": "TloWnmzhtxCn",
        "outputId": "9deb1272-4476-4776-b6dd-9101b01a3a7f"
      },
      "source": [
        "X = features.iloc[:,0:5]\n",
        "\n",
        "#X = X.T\n",
        "#X = preprocessing.normalize(X)\n",
        "#X = X.T\n",
        "Y = features.iloc[:,-1]\n",
        "X_treino, X_teste, Y_treino, Y_teste = train_test_split(X, Y, test_size = 0.2, random_state = 3)\n",
        "\n",
        "#X_padrao = StandardScaler().fit(X_treino)\n",
        "#X_treino = X_padrao.transform(X_treino)\n",
        "#X_teste = X_padrao.transform(X_teste)\n",
        "\n",
        "RandomForest = RandomForestClassifier(n_estimators = 100, max_depth=100, random_state = 9)\n",
        "RandomForest.fit(X_treino, Y_treino)\n",
        "testt = RandomForest.predict(X_teste)\n",
        "scoree = accuracy_score(Y_teste, testt)\n",
        "print(\"Random Forest testing accuracy=\",scoree*100)"
      ],
      "execution_count": null,
      "outputs": [
        {
          "output_type": "stream",
          "text": [
            "Random Forest testing accuracy= 92.5\n"
          ],
          "name": "stdout"
        }
      ]
    },
    {
      "cell_type": "code",
      "metadata": {
        "colab": {
          "base_uri": "https://localhost:8080/"
        },
        "id": "uBICJ9u_LRkE",
        "outputId": "c3925b26-9bda-4a59-e46a-54a939003b29"
      },
      "source": [
        "X = features.iloc[:,0:5]\n",
        "\n",
        "#X = X.T\n",
        "#X = preprocessing.normalize(X)\n",
        "#X = X.T\n",
        "Y = features.iloc[:,-1]\n",
        "X_treino, X_teste, Y_treino, Y_teste = train_test_split(X, Y, test_size = 0.2, random_state = 3)\n",
        "\n",
        "#X_padrao = StandardScaler().fit(X_treino)\n",
        "#X_treino = X_padrao.transform(X_treino)\n",
        "#X_teste = X_padrao.transform(X_teste)\n",
        "\n",
        "RandomForest = RandomForestClassifier(bootstrap=True, ccp_alpha=0.0, class_weight=None,\n",
        "                       criterion='gini', max_depth=100, max_features='auto',\n",
        "                       max_leaf_nodes=None, max_samples=None,\n",
        "                       min_impurity_decrease=0.0, min_impurity_split=None,\n",
        "                       min_samples_leaf=1, min_samples_split=3,\n",
        "                       min_weight_fraction_leaf=0.0, n_estimators=100,\n",
        "                       n_jobs=None, oob_score=False, verbose=0, warm_start=False, random_state = 9)\n",
        "RandomForest.fit(X_treino, Y_treino)\n",
        "testt = RandomForest.predict(X_teste)\n",
        "scoree = accuracy_score(Y_teste, testt)\n",
        "print(\"Random Forest testing accuracy=\",scoree*100)"
      ],
      "execution_count": null,
      "outputs": [
        {
          "output_type": "stream",
          "text": [
            "Random Forest testing accuracy= 91.38888888888889\n"
          ],
          "name": "stdout"
        }
      ]
    },
    {
      "cell_type": "code",
      "metadata": {
        "colab": {
          "base_uri": "https://localhost:8080/",
          "height": 644
        },
        "id": "S6KuYBButxCp",
        "outputId": "77dfb3db-8bfd-450a-e6bb-eb97106d2c4f"
      },
      "source": [
        "import matplotlib.pyplot as plt\n",
        "\n",
        "pred = RandomForest.predict(X_teste)\n",
        "\n",
        "c_matrix = confusion_matrix(pred, Y_teste)\n",
        "\n",
        "ax = plt.subplot()\n",
        "sns.set(style=\"ticks\", color_codes=True, rc={\"figure.figsize\": (12, 8)}, font_scale=1.2)\n",
        "sns.heatmap(c_matrix, annot=True, ax = ax, annot_kws={\"size\": 12}, linewidths=1, cmap = \"bone\");\n",
        "ax.set_xlabel('Rótulos Previstos', size = '16'); ax.set_ylabel('Rótulos Verdadeiros', size = '16');\n",
        "ax.set_title('Matriz de Confusão', size = '18')\n",
        "ax.xaxis.set_ticklabels(choices, rotation = 45, ha = 'right'); ax.yaxis.set_ticklabels(choices, rotation = 45);"
      ],
      "execution_count": null,
      "outputs": [
        {
          "output_type": "display_data",
          "data": {
            "image/png": "[encoded data removed]",
            "text/plain": [
              "<Figure size 864x576 with 2 Axes>"
            ]
          },
          "metadata": {
            "tags": []
          }
        }
      ]
    },
    {
      "cell_type": "code",
      "metadata": {
        "id": "q9YGuU5HtxCp"
      },
      "source": [
        "importances = pd.DataFrame({'Característica':X_treino.columns, 'Importância': np.round(RandomForest.feature_importances_, 3)})"
      ],
      "execution_count": null,
      "outputs": []
    },
    {
      "cell_type": "code",
      "metadata": {
        "colab": {
          "base_uri": "https://localhost:8080/",
          "height": 202
        },
        "id": "SLN3bnqmtxCq",
        "outputId": "04cff817-0cc0-4d21-f0cf-9598c046a398"
      },
      "source": [
        "importances.head(5)"
      ],
      "execution_count": null,
      "outputs": [
        {
          "output_type": "execute_result",
          "data": {
            "text/html": [
              "<div>\n",
              "<style scoped>\n",
              "    .dataframe tbody tr th:only-of-type {\n",
              "        vertical-align: middle;\n",
              "    }\n",
              "\n",
              "    .dataframe tbody tr th {\n",
              "        vertical-align: top;\n",
              "    }\n",
              "\n",
              "    .dataframe thead th {\n",
              "        text-align: right;\n",
              "    }\n",
              "</style>\n",
              "<table border=\"1\" class=\"dataframe\">\n",
              "  <thead>\n",
              "    <tr style=\"text-align: right;\">\n",
              "      <th></th>\n",
              "      <th>Característica</th>\n",
              "      <th>Importância</th>\n",
              "    </tr>\n",
              "  </thead>\n",
              "  <tbody>\n",
              "    <tr>\n",
              "      <th>0</th>\n",
              "      <td>contrast</td>\n",
              "      <td>0.232</td>\n",
              "    </tr>\n",
              "    <tr>\n",
              "      <th>1</th>\n",
              "      <td>dissimilarity</td>\n",
              "      <td>0.226</td>\n",
              "    </tr>\n",
              "    <tr>\n",
              "      <th>2</th>\n",
              "      <td>homogeneity</td>\n",
              "      <td>0.250</td>\n",
              "    </tr>\n",
              "    <tr>\n",
              "      <th>3</th>\n",
              "      <td>ASM</td>\n",
              "      <td>0.147</td>\n",
              "    </tr>\n",
              "    <tr>\n",
              "      <th>4</th>\n",
              "      <td>energy</td>\n",
              "      <td>0.144</td>\n",
              "    </tr>\n",
              "  </tbody>\n",
              "</table>\n",
              "</div>"
            ],
            "text/plain": [
              "  Característica  Importância\n",
              "0       contrast        0.232\n",
              "1  dissimilarity        0.226\n",
              "2    homogeneity        0.250\n",
              "3            ASM        0.147\n",
              "4         energy        0.144"
            ]
          },
          "metadata": {
            "tags": []
          },
          "execution_count": 55
        }
      ]
    },
    {
      "cell_type": "code",
      "metadata": {
        "colab": {
          "base_uri": "https://localhost:8080/",
          "height": 202
        },
        "id": "_UCXk7ZhtxCq",
        "outputId": "f69ba8ec-f758-41b1-e74a-04f1d44f2418"
      },
      "source": [
        "importances2= importances.sort_values('Importância', ascending = False)\n",
        "importances2"
      ],
      "execution_count": null,
      "outputs": [
        {
          "output_type": "execute_result",
          "data": {
            "text/html": [
              "<div>\n",
              "<style scoped>\n",
              "    .dataframe tbody tr th:only-of-type {\n",
              "        vertical-align: middle;\n",
              "    }\n",
              "\n",
              "    .dataframe tbody tr th {\n",
              "        vertical-align: top;\n",
              "    }\n",
              "\n",
              "    .dataframe thead th {\n",
              "        text-align: right;\n",
              "    }\n",
              "</style>\n",
              "<table border=\"1\" class=\"dataframe\">\n",
              "  <thead>\n",
              "    <tr style=\"text-align: right;\">\n",
              "      <th></th>\n",
              "      <th>Característica</th>\n",
              "      <th>Importância</th>\n",
              "    </tr>\n",
              "  </thead>\n",
              "  <tbody>\n",
              "    <tr>\n",
              "      <th>2</th>\n",
              "      <td>homogeneity</td>\n",
              "      <td>0.250</td>\n",
              "    </tr>\n",
              "    <tr>\n",
              "      <th>0</th>\n",
              "      <td>contrast</td>\n",
              "      <td>0.232</td>\n",
              "    </tr>\n",
              "    <tr>\n",
              "      <th>1</th>\n",
              "      <td>dissimilarity</td>\n",
              "      <td>0.226</td>\n",
              "    </tr>\n",
              "    <tr>\n",
              "      <th>3</th>\n",
              "      <td>ASM</td>\n",
              "      <td>0.147</td>\n",
              "    </tr>\n",
              "    <tr>\n",
              "      <th>4</th>\n",
              "      <td>energy</td>\n",
              "      <td>0.144</td>\n",
              "    </tr>\n",
              "  </tbody>\n",
              "</table>\n",
              "</div>"
            ],
            "text/plain": [
              "  Característica  Importância\n",
              "2    homogeneity        0.250\n",
              "0       contrast        0.232\n",
              "1  dissimilarity        0.226\n",
              "3            ASM        0.147\n",
              "4         energy        0.144"
            ]
          },
          "metadata": {
            "tags": []
          },
          "execution_count": 56
        }
      ]
    },
    {
      "cell_type": "code",
      "metadata": {
        "colab": {
          "base_uri": "https://localhost:8080/",
          "height": 436
        },
        "id": "rYrqJ3AmtxCr",
        "outputId": "d38f4aac-3f09-4c1f-b495-568cc9438556"
      },
      "source": [
        "importances2= importances.sort_values('Importância', ascending = False)\n",
        "importances2\n",
        "\n",
        "ax = importances2.plot(kind='bar', grid=True, figsize=(7,5), color = '#003d72')\n",
        "ax.set_axisbelow(True)\n",
        "plt.title(\"Importância das Características\", fontweight='bold', fontname ='Segoe UI')\n",
        "\n",
        "# plt.rc('font', size=20)                # controls default text sizes\n",
        "plt.rc('axes', titlesize=16)             # fontsize of the axes title\n",
        "plt.rc('axes', labelsize=14)             # fontsize of the x and y labels\n",
        "plt.rc('xtick', labelsize=12)            # fontsize of the tick (eixo) labels\n",
        "plt.rc('ytick', labelsize=12)            # fontsize of the tick (eixo) labels\n",
        "plt.rc('legend', fontsize=12)            # legend fontsize\n",
        "# plt.rc('figure', titlesize=BIGGER_SIZE)  # fontsize of the figure title\n",
        "\n",
        "#rot_y=[]\n",
        "x = np.linspace(-0.2, 3.8, 5, endpoint=True)\n",
        "for i in range(len(importances2)):\n",
        "    rot = round(np.array(importances2)[i,1]*100 ,2)\n",
        "    plt.text(x[i],np.array(importances2)[i,1]+0.002,str(rot)+\"%\", size = 13, fontname ='Arial')\n",
        "    #rot_y.append(rot2)\n",
        "    #print(rot_y)\n",
        "    \n",
        "#ax.set_yticklabels(str(rot2))\n",
        "ax.set_xlabel('Característica', fontname ='Segoe UI')\n",
        "ax.set_ylabel('Importância', fontname ='Segoe UI')\n",
        "#ax.set_xticks(positions)\n",
        "\n",
        "#ax.set_xticks(rot)\n",
        "ax.set_xticklabels(importances2['Característica'], fontname ='Segoe UI')\n",
        "#ax.set_yticklabels = (rot_y)\n",
        "#print (ax.set_xticklabels)\n",
        "\n",
        "plt.show()"
      ],
      "execution_count": null,
      "outputs": [
        {
          "output_type": "display_data",
          "data": {
            "image/png": "[encoded data removed]",
            "text/plain": [
              "<Figure size 504x360 with 1 Axes>"
            ]
          },
          "metadata": {
            "tags": []
          }
        }
      ]
    },
    {
      "cell_type": "code",
      "metadata": {
        "id": "_Nf2WHFMtxCr",
        "outputId": "5aa8a365-5d25-4212-db11-887b887e3beb"
      },
      "source": [
        "from sklearn.model_selection import GridSearchCV\n",
        "params = {\n",
        "    'n_estimators': [100, 200, 300, 400, 500, 700, 850, 1000],\n",
        "    'criterion' : ['gini', 'entropy'],\n",
        "    'max_depth' : [10, 30, 50, 70],\n",
        "    'min_samples_leaf' : [1, 3, 5, 6, 7],\n",
        "    'min_samples_split': [1, 5, 9, 13, 15],\n",
        "}\n",
        "grid_RF = GridSearchCV(estimator = RandomForestClassifier(),\n",
        "                        param_grid = params,\n",
        "                        scoring = 'accuracy', \n",
        "                        cv = 4, \n",
        "                        verbose = 1,\n",
        "                        n_jobs = -1)\n",
        "grid_RF.fit(X_treino, Y_treino)\n",
        "grid_RF.best_estimator_\n",
        "testt2=grid_RF.predict(X_teste)\n",
        "scoree2=accuracy_score(Y_teste, testt2)\n",
        "print(\"Random Forest testing accuracy=\",scoree2*100)"
      ],
      "execution_count": null,
      "outputs": [
        {
          "output_type": "stream",
          "text": [
            "Fitting 4 folds for each of 1600 candidates, totalling 6400 fits\n"
          ],
          "name": "stdout"
        },
        {
          "output_type": "stream",
          "text": [
            "[Parallel(n_jobs=-1)]: Using backend LokyBackend with 4 concurrent workers.\n",
            "[Parallel(n_jobs=-1)]: Done  42 tasks      | elapsed:  3.8min\n",
            "[Parallel(n_jobs=-1)]: Done 192 tasks      | elapsed: 25.5min\n",
            "[Parallel(n_jobs=-1)]: Done 442 tasks      | elapsed: 64.6min\n",
            "[Parallel(n_jobs=-1)]: Done 792 tasks      | elapsed: 105.3min\n",
            "[Parallel(n_jobs=-1)]: Done 1242 tasks      | elapsed: 159.3min\n",
            "[Parallel(n_jobs=-1)]: Done 1792 tasks      | elapsed: 221.6min\n",
            "[Parallel(n_jobs=-1)]: Done 2442 tasks      | elapsed: 297.7min\n",
            "[Parallel(n_jobs=-1)]: Done 3192 tasks      | elapsed: 388.5min\n",
            "[Parallel(n_jobs=-1)]: Done 4042 tasks      | elapsed: 530.3min\n",
            "[Parallel(n_jobs=-1)]: Done 4992 tasks      | elapsed: 714.1min\n",
            "[Parallel(n_jobs=-1)]: Done 6042 tasks      | elapsed: 928.0min\n",
            "[Parallel(n_jobs=-1)]: Done 6400 out of 6400 | elapsed: 991.0min finished\n"
          ],
          "name": "stderr"
        },
        {
          "output_type": "stream",
          "text": [
            "Random Forest testing accuracy= 87.5\n"
          ],
          "name": "stdout"
        }
      ]
    },
    {
      "cell_type": "code",
      "metadata": {
        "id": "IAnkPCvatxCr",
        "outputId": "9782a506-dd97-4a2a-f0f4-17bdd6f01670"
      },
      "source": [
        "grid_RF.best_estimator_"
      ],
      "execution_count": null,
      "outputs": [
        {
          "output_type": "execute_result",
          "data": {
            "text/plain": [
              "RandomForestClassifier(max_depth=70, min_samples_split=5, n_estimators=200)"
            ]
          },
          "metadata": {
            "tags": []
          },
          "execution_count": 14
        }
      ]
    },
    {
      "cell_type": "code",
      "metadata": {
        "id": "js24grGytxCr",
        "outputId": "2c85bcda-1262-4ba7-90d5-8c8f733e87f1"
      },
      "source": [
        "grid_RF"
      ],
      "execution_count": null,
      "outputs": [
        {
          "output_type": "execute_result",
          "data": {
            "text/plain": [
              "GridSearchCV(cv=4, estimator=RandomForestClassifier(), n_jobs=-1,\n",
              "             param_grid={'criterion': ['gini', 'entropy'],\n",
              "                         'max_depth': [10, 30, 50, 70],\n",
              "                         'min_samples_leaf': [1, 3, 5, 6, 7],\n",
              "                         'min_samples_split': [1, 5, 9, 13, 15],\n",
              "                         'n_estimators': [100, 200, 300, 400, 500, 700, 850,\n",
              "                                          1000]},\n",
              "             scoring='accuracy', verbose=1)"
            ]
          },
          "metadata": {
            "tags": []
          },
          "execution_count": 19
        }
      ]
    },
    {
      "cell_type": "code",
      "metadata": {
        "id": "Bgw5qgb9txCs",
        "outputId": "57f2584e-100c-4bd9-e41c-5f162e2623c3"
      },
      "source": [
        "from sklearn.model_selection import GridSearchCV\n",
        "params = {\n",
        "    'n_estimators': [100, 150, 200, 250, 300, 350, 400],\n",
        "    'criterion' : ['gini', 'entropy'],\n",
        "    'max_depth' : [50, 60, 70, 80, 90, 100, 200],\n",
        "    'min_samples_leaf' : [1, 3, 5, 6, 7],\n",
        "    'min_samples_split': [3, 4,  5, 6, 7, 8, 9, 10],\n",
        "}\n",
        "grid_RF = GridSearchCV(estimator = RandomForestClassifier(),\n",
        "                        param_grid = params,\n",
        "                        scoring = 'accuracy', \n",
        "                        cv = 4, \n",
        "                        verbose = 1,\n",
        "                        n_jobs = -1)\n",
        "grid_RF.fit(X_treino, Y_treino)\n",
        "grid_RF.best_estimator_\n",
        "testt2=grid_RF.predict(X_teste)\n",
        "scoree2=accuracy_score(Y_teste, testt2)\n",
        "print(\"Random Forest testing accuracy=\",scoree2*100)"
      ],
      "execution_count": null,
      "outputs": [
        {
          "output_type": "stream",
          "text": [
            "Fitting 4 folds for each of 3920 candidates, totalling 15680 fits\n"
          ],
          "name": "stdout"
        },
        {
          "output_type": "stream",
          "text": [
            "[Parallel(n_jobs=-1)]: Using backend LokyBackend with 4 concurrent workers.\n",
            "[Parallel(n_jobs=-1)]: Done  42 tasks      | elapsed:  6.0min\n",
            "[Parallel(n_jobs=-1)]: Done 192 tasks      | elapsed: 17.2min\n",
            "[Parallel(n_jobs=-1)]: Done 442 tasks      | elapsed: 35.2min\n",
            "[Parallel(n_jobs=-1)]: Done 792 tasks      | elapsed: 59.5min\n",
            "[Parallel(n_jobs=-1)]: Done 1242 tasks      | elapsed: 91.0min\n",
            "[Parallel(n_jobs=-1)]: Done 1792 tasks      | elapsed: 129.4min\n",
            "[Parallel(n_jobs=-1)]: Done 2442 tasks      | elapsed: 185.4min\n",
            "[Parallel(n_jobs=-1)]: Done 3192 tasks      | elapsed: 241.4min\n",
            "[Parallel(n_jobs=-1)]: Done 4042 tasks      | elapsed: 300.6min\n",
            "[Parallel(n_jobs=-1)]: Done 4992 tasks      | elapsed: 367.0min\n",
            "[Parallel(n_jobs=-1)]: Done 6042 tasks      | elapsed: 440.2min\n",
            "[Parallel(n_jobs=-1)]: Done 7192 tasks      | elapsed: 519.7min\n",
            "[Parallel(n_jobs=-1)]: Done 8442 tasks      | elapsed: 628.1min\n",
            "[Parallel(n_jobs=-1)]: Done 9792 tasks      | elapsed: 775.3min\n",
            "[Parallel(n_jobs=-1)]: Done 11242 tasks      | elapsed: 936.7min\n",
            "[Parallel(n_jobs=-1)]: Done 12792 tasks      | elapsed: 1123.8min\n",
            "[Parallel(n_jobs=-1)]: Done 14442 tasks      | elapsed: 1306.3min\n"
          ],
          "name": "stderr"
        }
      ]
    },
    {
      "cell_type": "code",
      "metadata": {
        "colab": {
          "base_uri": "https://localhost:8080/"
        },
        "id": "Ex2bAk0ZtxCs",
        "outputId": "c17f1c29-a386-4078-b3a5-ddee81fb6158"
      },
      "source": [
        "from sklearn.model_selection import GridSearchCV\n",
        "params = {\n",
        "    'n_estimators': [50, 100, 150, 200, 250, 300, 350, 400],\n",
        "    'criterion' : ['gini', 'entropy'],\n",
        "    'max_depth' : [50, 60, 70, 80, 90, 100, 200],\n",
        "    'min_samples_leaf' : [1, 3, 5, 6, 7, 9, 10],\n",
        "    'min_samples_split': [3, 4,  5, 6, 7, 8, 9, 10],\n",
        "}\n",
        "grid_RF = GridSearchCV(estimator = RandomForestClassifier(),\n",
        "                        param_grid = params,\n",
        "                        scoring = 'accuracy', \n",
        "                        cv = 4, \n",
        "                        verbose = 1,\n",
        "                        n_jobs = -1)\n",
        "grid_RF.fit(X_treino, Y_treino)\n",
        "grid_RF.best_estimator_\n",
        "testt2=grid_RF.predict(X_teste)\n",
        "scoree2=accuracy_score(Y_teste, testt2)\n",
        "print(\"Random Forest testing accuracy=\",scoree2*100)"
      ],
      "execution_count": null,
      "outputs": [
        {
          "output_type": "stream",
          "text": [
            "Fitting 4 folds for each of 6272 candidates, totalling 25088 fits\n"
          ],
          "name": "stdout"
        },
        {
          "output_type": "stream",
          "text": [
            "[Parallel(n_jobs=-1)]: Using backend LokyBackend with 2 concurrent workers.\n",
            "[Parallel(n_jobs=-1)]: Done  46 tasks      | elapsed:   20.1s\n",
            "[Parallel(n_jobs=-1)]: Done 196 tasks      | elapsed:  1.5min\n",
            "[Parallel(n_jobs=-1)]: Done 446 tasks      | elapsed:  3.5min\n",
            "[Parallel(n_jobs=-1)]: Done 796 tasks      | elapsed:  6.1min\n",
            "[Parallel(n_jobs=-1)]: Done 1246 tasks      | elapsed:  9.4min\n",
            "[Parallel(n_jobs=-1)]: Done 1796 tasks      | elapsed: 13.3min\n",
            "[Parallel(n_jobs=-1)]: Done 2446 tasks      | elapsed: 18.3min\n",
            "[Parallel(n_jobs=-1)]: Done 3196 tasks      | elapsed: 23.9min\n",
            "[Parallel(n_jobs=-1)]: Done 4046 tasks      | elapsed: 30.3min\n",
            "[Parallel(n_jobs=-1)]: Done 4996 tasks      | elapsed: 37.4min\n",
            "[Parallel(n_jobs=-1)]: Done 6046 tasks      | elapsed: 45.3min\n",
            "[Parallel(n_jobs=-1)]: Done 7196 tasks      | elapsed: 53.7min\n",
            "[Parallel(n_jobs=-1)]: Done 8446 tasks      | elapsed: 63.3min\n",
            "[Parallel(n_jobs=-1)]: Done 9796 tasks      | elapsed: 73.3min\n",
            "[Parallel(n_jobs=-1)]: Done 11246 tasks      | elapsed: 84.1min\n",
            "[Parallel(n_jobs=-1)]: Done 12796 tasks      | elapsed: 96.7min\n",
            "[Parallel(n_jobs=-1)]: Done 14446 tasks      | elapsed: 115.9min\n",
            "[Parallel(n_jobs=-1)]: Done 16196 tasks      | elapsed: 136.1min\n",
            "[Parallel(n_jobs=-1)]: Done 18046 tasks      | elapsed: 157.6min\n",
            "[Parallel(n_jobs=-1)]: Done 19996 tasks      | elapsed: 180.4min\n",
            "[Parallel(n_jobs=-1)]: Done 22046 tasks      | elapsed: 204.4min\n",
            "[Parallel(n_jobs=-1)]: Done 24196 tasks      | elapsed: 229.3min\n",
            "[Parallel(n_jobs=-1)]: Done 25088 out of 25088 | elapsed: 239.2min finished\n"
          ],
          "name": "stderr"
        },
        {
          "output_type": "stream",
          "text": [
            "Random Forest testing accuracy= 91.11111111111111\n"
          ],
          "name": "stdout"
        }
      ]
    },
    {
      "cell_type": "code",
      "metadata": {
        "colab": {
          "base_uri": "https://localhost:8080/"
        },
        "id": "n6hmvxhptxCs",
        "outputId": "d37a4e87-8762-4e25-8019-6657a3103d8b"
      },
      "source": [
        "grid_RF.best_estimator_"
      ],
      "execution_count": null,
      "outputs": [
        {
          "output_type": "execute_result",
          "data": {
            "text/plain": [
              "RandomForestClassifier(bootstrap=True, ccp_alpha=0.0, class_weight=None,\n",
              "                       criterion='gini', max_depth=70, max_features='auto',\n",
              "                       max_leaf_nodes=None, max_samples=None,\n",
              "                       min_impurity_decrease=0.0, min_impurity_split=None,\n",
              "                       min_samples_leaf=1, min_samples_split=3,\n",
              "                       min_weight_fraction_leaf=0.0, n_estimators=150,\n",
              "                       n_jobs=None, oob_score=False, random_state=None,\n",
              "                       verbose=0, warm_start=False)"
            ]
          },
          "metadata": {
            "tags": []
          },
          "execution_count": 59
        }
      ]
    }
  ]
}