{
  "nbformat": 4,
  "nbformat_minor": 0,
  "metadata": {
    "kernelspec": {
      "display_name": "Python 3",
      "language": "python",
      "name": "python3"
    },
    "language_info": {
      "codemirror_mode": {
        "name": "ipython",
        "version": 3
      },
      "file_extension": ".py",
      "mimetype": "text/x-python",
      "name": "python",
      "nbconvert_exporter": "python",
      "pygments_lexer": "ipython3",
      "version": "3.8.3"
    },
    "colab": {
      "name": "SVM.ipynb",
      "provenance": [],
      "collapsed_sections": []
    }
  },
  "cells": [
    {
      "cell_type": "code",
      "metadata": {
        "id": "T0nj1VU8HpE7"
      },
      "source": [
        "import cv2\n",
        "import numpy as np\n",
        "import os\n",
        "import pandas as pd\n",
        "import matplotlib.pyplot as plt\n",
        "import matplotlib.image as mpimg\n",
        "import re\n",
        "import seaborn as sns\n",
        "from PIL import Image\n",
        "from sklearn.model_selection import cross_val_score\n",
        "from sklearn.model_selection import train_test_split\n",
        "from sklearn import preprocessing\n",
        "from sklearn.metrics import confusion_matrix, accuracy_score\n",
        "from sklearn.svm import LinearSVC, SVC"
      ],
      "execution_count": null,
      "outputs": []
    },
    {
      "cell_type": "code",
      "metadata": {
        "id": "2IctjIzTHpFe"
      },
      "source": [
        "features = pd.read_excel('features_1.xlsx')"
      ],
      "execution_count": null,
      "outputs": []
    },
    {
      "cell_type": "code",
      "metadata": {
        "id": "Ur2ZQnsoHpFh"
      },
      "source": [
        "features = features.drop(columns=['Unnamed: 0'])"
      ],
      "execution_count": null,
      "outputs": []
    },
    {
      "cell_type": "code",
      "metadata": {
        "id": "KG-q43y_HpFj",
        "outputId": "586214ef-4236-46fa-f8dd-3173f107a5b1"
      },
      "source": [
        "features"
      ],
      "execution_count": null,
      "outputs": [
        {
          "output_type": "execute_result",
          "data": {
            "text/html": [
              "<div>\n",
              "<style scoped>\n",
              "    .dataframe tbody tr th:only-of-type {\n",
              "        vertical-align: middle;\n",
              "    }\n",
              "\n",
              "    .dataframe tbody tr th {\n",
              "        vertical-align: top;\n",
              "    }\n",
              "\n",
              "    .dataframe thead th {\n",
              "        text-align: right;\n",
              "    }\n",
              "</style>\n",
              "<table border=\"1\" class=\"dataframe\">\n",
              "  <thead>\n",
              "    <tr style=\"text-align: right;\">\n",
              "      <th></th>\n",
              "      <th>contrast</th>\n",
              "      <th>dissimilarity</th>\n",
              "      <th>homogeneity</th>\n",
              "      <th>ASM</th>\n",
              "      <th>energy</th>\n",
              "      <th>Label</th>\n",
              "      <th>Unnamed: 7</th>\n",
              "      <th>Unnamed: 8</th>\n",
              "      <th>contrast.1</th>\n",
              "      <th>dissimilarity.1</th>\n",
              "      <th>homogeneity.1</th>\n",
              "      <th>ASM.1</th>\n",
              "      <th>energy.1</th>\n",
              "    </tr>\n",
              "  </thead>\n",
              "  <tbody>\n",
              "    <tr>\n",
              "      <th>0</th>\n",
              "      <td>12769357</td>\n",
              "      <td>562393</td>\n",
              "      <td>2747.881680</td>\n",
              "      <td>312782</td>\n",
              "      <td>559.269166</td>\n",
              "      <td>0</td>\n",
              "      <td>NaN</td>\n",
              "      <td>quebra</td>\n",
              "      <td>1.137901e+07</td>\n",
              "      <td>520695.140000</td>\n",
              "      <td>3139.132210</td>\n",
              "      <td>3.585647e+05</td>\n",
              "      <td>594.820786</td>\n",
              "    </tr>\n",
              "    <tr>\n",
              "      <th>1</th>\n",
              "      <td>9580203</td>\n",
              "      <td>482361</td>\n",
              "      <td>3307.995564</td>\n",
              "      <td>289038</td>\n",
              "      <td>537.622544</td>\n",
              "      <td>0</td>\n",
              "      <td>NaN</td>\n",
              "      <td>inclusão</td>\n",
              "      <td>3.818199e+05</td>\n",
              "      <td>91542.516667</td>\n",
              "      <td>14077.149180</td>\n",
              "      <td>4.476131e+06</td>\n",
              "      <td>2067.330784</td>\n",
              "    </tr>\n",
              "    <tr>\n",
              "      <th>2</th>\n",
              "      <td>10928946</td>\n",
              "      <td>517098</td>\n",
              "      <td>3084.553772</td>\n",
              "      <td>337650</td>\n",
              "      <td>581.076587</td>\n",
              "      <td>0</td>\n",
              "      <td>NaN</td>\n",
              "      <td>manchas</td>\n",
              "      <td>9.701245e+06</td>\n",
              "      <td>449447.623333</td>\n",
              "      <td>5721.048706</td>\n",
              "      <td>1.576351e+07</td>\n",
              "      <td>2404.479182</td>\n",
              "    </tr>\n",
              "    <tr>\n",
              "      <th>3</th>\n",
              "      <td>12465011</td>\n",
              "      <td>556457</td>\n",
              "      <td>2776.650206</td>\n",
              "      <td>372854</td>\n",
              "      <td>610.617720</td>\n",
              "      <td>0</td>\n",
              "      <td>NaN</td>\n",
              "      <td>corrosao por pite</td>\n",
              "      <td>2.296732e+06</td>\n",
              "      <td>210095.453333</td>\n",
              "      <td>9282.596266</td>\n",
              "      <td>1.294473e+07</td>\n",
              "      <td>2222.867379</td>\n",
              "    </tr>\n",
              "    <tr>\n",
              "      <th>4</th>\n",
              "      <td>6088850</td>\n",
              "      <td>375354</td>\n",
              "      <td>4293.162968</td>\n",
              "      <td>371518</td>\n",
              "      <td>609.522764</td>\n",
              "      <td>0</td>\n",
              "      <td>NaN</td>\n",
              "      <td>carepa</td>\n",
              "      <td>2.210379e+06</td>\n",
              "      <td>231534.090000</td>\n",
              "      <td>6393.583508</td>\n",
              "      <td>1.366001e+06</td>\n",
              "      <td>1151.400414</td>\n",
              "    </tr>\n",
              "    <tr>\n",
              "      <th>...</th>\n",
              "      <td>...</td>\n",
              "      <td>...</td>\n",
              "      <td>...</td>\n",
              "      <td>...</td>\n",
              "      <td>...</td>\n",
              "      <td>...</td>\n",
              "      <td>...</td>\n",
              "      <td>...</td>\n",
              "      <td>...</td>\n",
              "      <td>...</td>\n",
              "      <td>...</td>\n",
              "      <td>...</td>\n",
              "      <td>...</td>\n",
              "    </tr>\n",
              "    <tr>\n",
              "      <th>1795</th>\n",
              "      <td>878418</td>\n",
              "      <td>124428</td>\n",
              "      <td>11710.060699</td>\n",
              "      <td>2728618</td>\n",
              "      <td>1651.852899</td>\n",
              "      <td>5</td>\n",
              "      <td>NaN</td>\n",
              "      <td>NaN</td>\n",
              "      <td>NaN</td>\n",
              "      <td>NaN</td>\n",
              "      <td>NaN</td>\n",
              "      <td>NaN</td>\n",
              "      <td>NaN</td>\n",
              "    </tr>\n",
              "    <tr>\n",
              "      <th>1796</th>\n",
              "      <td>477005</td>\n",
              "      <td>93119</td>\n",
              "      <td>14425.559150</td>\n",
              "      <td>3308128</td>\n",
              "      <td>1818.825995</td>\n",
              "      <td>5</td>\n",
              "      <td>NaN</td>\n",
              "      <td>NaN</td>\n",
              "      <td>NaN</td>\n",
              "      <td>NaN</td>\n",
              "      <td>NaN</td>\n",
              "      <td>NaN</td>\n",
              "      <td>NaN</td>\n",
              "    </tr>\n",
              "    <tr>\n",
              "      <th>1797</th>\n",
              "      <td>1400820</td>\n",
              "      <td>151900</td>\n",
              "      <td>10458.336605</td>\n",
              "      <td>1487772</td>\n",
              "      <td>1219.742596</td>\n",
              "      <td>5</td>\n",
              "      <td>NaN</td>\n",
              "      <td>NaN</td>\n",
              "      <td>NaN</td>\n",
              "      <td>NaN</td>\n",
              "      <td>NaN</td>\n",
              "      <td>NaN</td>\n",
              "      <td>NaN</td>\n",
              "    </tr>\n",
              "    <tr>\n",
              "      <th>1798</th>\n",
              "      <td>368408</td>\n",
              "      <td>91122</td>\n",
              "      <td>13919.297455</td>\n",
              "      <td>3666654</td>\n",
              "      <td>1914.850908</td>\n",
              "      <td>5</td>\n",
              "      <td>NaN</td>\n",
              "      <td>NaN</td>\n",
              "      <td>NaN</td>\n",
              "      <td>NaN</td>\n",
              "      <td>NaN</td>\n",
              "      <td>NaN</td>\n",
              "      <td>NaN</td>\n",
              "    </tr>\n",
              "    <tr>\n",
              "      <th>1799</th>\n",
              "      <td>865120</td>\n",
              "      <td>135004</td>\n",
              "      <td>10594.912435</td>\n",
              "      <td>2229022</td>\n",
              "      <td>1492.990958</td>\n",
              "      <td>5</td>\n",
              "      <td>NaN</td>\n",
              "      <td>NaN</td>\n",
              "      <td>NaN</td>\n",
              "      <td>NaN</td>\n",
              "      <td>NaN</td>\n",
              "      <td>NaN</td>\n",
              "      <td>NaN</td>\n",
              "    </tr>\n",
              "  </tbody>\n",
              "</table>\n",
              "<p>1800 rows × 13 columns</p>\n",
              "</div>"
            ],
            "text/plain": [
              "      contrast  dissimilarity   homogeneity      ASM       energy  Label  \\\n",
              "0     12769357         562393   2747.881680   312782   559.269166      0   \n",
              "1      9580203         482361   3307.995564   289038   537.622544      0   \n",
              "2     10928946         517098   3084.553772   337650   581.076587      0   \n",
              "3     12465011         556457   2776.650206   372854   610.617720      0   \n",
              "4      6088850         375354   4293.162968   371518   609.522764      0   \n",
              "...        ...            ...           ...      ...          ...    ...   \n",
              "1795    878418         124428  11710.060699  2728618  1651.852899      5   \n",
              "1796    477005          93119  14425.559150  3308128  1818.825995      5   \n",
              "1797   1400820         151900  10458.336605  1487772  1219.742596      5   \n",
              "1798    368408          91122  13919.297455  3666654  1914.850908      5   \n",
              "1799    865120         135004  10594.912435  2229022  1492.990958      5   \n",
              "\n",
              "      Unnamed: 7         Unnamed: 8    contrast.1  dissimilarity.1  \\\n",
              "0            NaN             quebra  1.137901e+07    520695.140000   \n",
              "1            NaN           inclusão  3.818199e+05     91542.516667   \n",
              "2            NaN            manchas  9.701245e+06    449447.623333   \n",
              "3            NaN  corrosao por pite  2.296732e+06    210095.453333   \n",
              "4            NaN             carepa  2.210379e+06    231534.090000   \n",
              "...          ...                ...           ...              ...   \n",
              "1795         NaN                NaN           NaN              NaN   \n",
              "1796         NaN                NaN           NaN              NaN   \n",
              "1797         NaN                NaN           NaN              NaN   \n",
              "1798         NaN                NaN           NaN              NaN   \n",
              "1799         NaN                NaN           NaN              NaN   \n",
              "\n",
              "      homogeneity.1         ASM.1     energy.1  \n",
              "0       3139.132210  3.585647e+05   594.820786  \n",
              "1      14077.149180  4.476131e+06  2067.330784  \n",
              "2       5721.048706  1.576351e+07  2404.479182  \n",
              "3       9282.596266  1.294473e+07  2222.867379  \n",
              "4       6393.583508  1.366001e+06  1151.400414  \n",
              "...             ...           ...          ...  \n",
              "1795            NaN           NaN          NaN  \n",
              "1796            NaN           NaN          NaN  \n",
              "1797            NaN           NaN          NaN  \n",
              "1798            NaN           NaN          NaN  \n",
              "1799            NaN           NaN          NaN  \n",
              "\n",
              "[1800 rows x 13 columns]"
            ]
          },
          "metadata": {
            "tags": []
          },
          "execution_count": 67
        }
      ]
    },
    {
      "cell_type": "code",
      "metadata": {
        "id": "cvRZ6L3wHpFo",
        "outputId": "8bc57a57-0c5f-4300-c40e-aa496ffc6073"
      },
      "source": [
        "conditions = [\n",
        "    (features['Label'] == 0),\n",
        "    (features['Label'] == 1),\n",
        "    (features['Label'] == 2),\n",
        "    (features['Label'] == 3),\n",
        "    (features['Label'] == 4),\n",
        "    (features['Label'] == 5)]\n",
        "choices = ['Quebra', 'Inclusão', 'Manchas', 'Corrosão Superficial por Pite', 'Carepa Incrustada', 'Marcas Superficiais']\n",
        "features['defeitos'] = np.select(conditions, choices)\n",
        "features"
      ],
      "execution_count": null,
      "outputs": [
        {
          "output_type": "execute_result",
          "data": {
            "text/html": [
              "<div>\n",
              "<style scoped>\n",
              "    .dataframe tbody tr th:only-of-type {\n",
              "        vertical-align: middle;\n",
              "    }\n",
              "\n",
              "    .dataframe tbody tr th {\n",
              "        vertical-align: top;\n",
              "    }\n",
              "\n",
              "    .dataframe thead th {\n",
              "        text-align: right;\n",
              "    }\n",
              "</style>\n",
              "<table border=\"1\" class=\"dataframe\">\n",
              "  <thead>\n",
              "    <tr style=\"text-align: right;\">\n",
              "      <th></th>\n",
              "      <th>contrast</th>\n",
              "      <th>dissimilarity</th>\n",
              "      <th>homogeneity</th>\n",
              "      <th>ASM</th>\n",
              "      <th>energy</th>\n",
              "      <th>Label</th>\n",
              "      <th>Unnamed: 7</th>\n",
              "      <th>Unnamed: 8</th>\n",
              "      <th>contrast.1</th>\n",
              "      <th>dissimilarity.1</th>\n",
              "      <th>homogeneity.1</th>\n",
              "      <th>ASM.1</th>\n",
              "      <th>energy.1</th>\n",
              "      <th>defeitos</th>\n",
              "    </tr>\n",
              "  </thead>\n",
              "  <tbody>\n",
              "    <tr>\n",
              "      <th>0</th>\n",
              "      <td>12769357</td>\n",
              "      <td>562393</td>\n",
              "      <td>2747.881680</td>\n",
              "      <td>312782</td>\n",
              "      <td>559.269166</td>\n",
              "      <td>0</td>\n",
              "      <td>NaN</td>\n",
              "      <td>quebra</td>\n",
              "      <td>1.137901e+07</td>\n",
              "      <td>520695.140000</td>\n",
              "      <td>3139.132210</td>\n",
              "      <td>3.585647e+05</td>\n",
              "      <td>594.820786</td>\n",
              "      <td>Quebra</td>\n",
              "    </tr>\n",
              "    <tr>\n",
              "      <th>1</th>\n",
              "      <td>9580203</td>\n",
              "      <td>482361</td>\n",
              "      <td>3307.995564</td>\n",
              "      <td>289038</td>\n",
              "      <td>537.622544</td>\n",
              "      <td>0</td>\n",
              "      <td>NaN</td>\n",
              "      <td>inclusão</td>\n",
              "      <td>3.818199e+05</td>\n",
              "      <td>91542.516667</td>\n",
              "      <td>14077.149180</td>\n",
              "      <td>4.476131e+06</td>\n",
              "      <td>2067.330784</td>\n",
              "      <td>Quebra</td>\n",
              "    </tr>\n",
              "    <tr>\n",
              "      <th>2</th>\n",
              "      <td>10928946</td>\n",
              "      <td>517098</td>\n",
              "      <td>3084.553772</td>\n",
              "      <td>337650</td>\n",
              "      <td>581.076587</td>\n",
              "      <td>0</td>\n",
              "      <td>NaN</td>\n",
              "      <td>manchas</td>\n",
              "      <td>9.701245e+06</td>\n",
              "      <td>449447.623333</td>\n",
              "      <td>5721.048706</td>\n",
              "      <td>1.576351e+07</td>\n",
              "      <td>2404.479182</td>\n",
              "      <td>Quebra</td>\n",
              "    </tr>\n",
              "    <tr>\n",
              "      <th>3</th>\n",
              "      <td>12465011</td>\n",
              "      <td>556457</td>\n",
              "      <td>2776.650206</td>\n",
              "      <td>372854</td>\n",
              "      <td>610.617720</td>\n",
              "      <td>0</td>\n",
              "      <td>NaN</td>\n",
              "      <td>corrosao por pite</td>\n",
              "      <td>2.296732e+06</td>\n",
              "      <td>210095.453333</td>\n",
              "      <td>9282.596266</td>\n",
              "      <td>1.294473e+07</td>\n",
              "      <td>2222.867379</td>\n",
              "      <td>Quebra</td>\n",
              "    </tr>\n",
              "    <tr>\n",
              "      <th>4</th>\n",
              "      <td>6088850</td>\n",
              "      <td>375354</td>\n",
              "      <td>4293.162968</td>\n",
              "      <td>371518</td>\n",
              "      <td>609.522764</td>\n",
              "      <td>0</td>\n",
              "      <td>NaN</td>\n",
              "      <td>carepa</td>\n",
              "      <td>2.210379e+06</td>\n",
              "      <td>231534.090000</td>\n",
              "      <td>6393.583508</td>\n",
              "      <td>1.366001e+06</td>\n",
              "      <td>1151.400414</td>\n",
              "      <td>Quebra</td>\n",
              "    </tr>\n",
              "    <tr>\n",
              "      <th>...</th>\n",
              "      <td>...</td>\n",
              "      <td>...</td>\n",
              "      <td>...</td>\n",
              "      <td>...</td>\n",
              "      <td>...</td>\n",
              "      <td>...</td>\n",
              "      <td>...</td>\n",
              "      <td>...</td>\n",
              "      <td>...</td>\n",
              "      <td>...</td>\n",
              "      <td>...</td>\n",
              "      <td>...</td>\n",
              "      <td>...</td>\n",
              "      <td>...</td>\n",
              "    </tr>\n",
              "    <tr>\n",
              "      <th>1795</th>\n",
              "      <td>878418</td>\n",
              "      <td>124428</td>\n",
              "      <td>11710.060699</td>\n",
              "      <td>2728618</td>\n",
              "      <td>1651.852899</td>\n",
              "      <td>5</td>\n",
              "      <td>NaN</td>\n",
              "      <td>NaN</td>\n",
              "      <td>NaN</td>\n",
              "      <td>NaN</td>\n",
              "      <td>NaN</td>\n",
              "      <td>NaN</td>\n",
              "      <td>NaN</td>\n",
              "      <td>Marcas Superficiais</td>\n",
              "    </tr>\n",
              "    <tr>\n",
              "      <th>1796</th>\n",
              "      <td>477005</td>\n",
              "      <td>93119</td>\n",
              "      <td>14425.559150</td>\n",
              "      <td>3308128</td>\n",
              "      <td>1818.825995</td>\n",
              "      <td>5</td>\n",
              "      <td>NaN</td>\n",
              "      <td>NaN</td>\n",
              "      <td>NaN</td>\n",
              "      <td>NaN</td>\n",
              "      <td>NaN</td>\n",
              "      <td>NaN</td>\n",
              "      <td>NaN</td>\n",
              "      <td>Marcas Superficiais</td>\n",
              "    </tr>\n",
              "    <tr>\n",
              "      <th>1797</th>\n",
              "      <td>1400820</td>\n",
              "      <td>151900</td>\n",
              "      <td>10458.336605</td>\n",
              "      <td>1487772</td>\n",
              "      <td>1219.742596</td>\n",
              "      <td>5</td>\n",
              "      <td>NaN</td>\n",
              "      <td>NaN</td>\n",
              "      <td>NaN</td>\n",
              "      <td>NaN</td>\n",
              "      <td>NaN</td>\n",
              "      <td>NaN</td>\n",
              "      <td>NaN</td>\n",
              "      <td>Marcas Superficiais</td>\n",
              "    </tr>\n",
              "    <tr>\n",
              "      <th>1798</th>\n",
              "      <td>368408</td>\n",
              "      <td>91122</td>\n",
              "      <td>13919.297455</td>\n",
              "      <td>3666654</td>\n",
              "      <td>1914.850908</td>\n",
              "      <td>5</td>\n",
              "      <td>NaN</td>\n",
              "      <td>NaN</td>\n",
              "      <td>NaN</td>\n",
              "      <td>NaN</td>\n",
              "      <td>NaN</td>\n",
              "      <td>NaN</td>\n",
              "      <td>NaN</td>\n",
              "      <td>Marcas Superficiais</td>\n",
              "    </tr>\n",
              "    <tr>\n",
              "      <th>1799</th>\n",
              "      <td>865120</td>\n",
              "      <td>135004</td>\n",
              "      <td>10594.912435</td>\n",
              "      <td>2229022</td>\n",
              "      <td>1492.990958</td>\n",
              "      <td>5</td>\n",
              "      <td>NaN</td>\n",
              "      <td>NaN</td>\n",
              "      <td>NaN</td>\n",
              "      <td>NaN</td>\n",
              "      <td>NaN</td>\n",
              "      <td>NaN</td>\n",
              "      <td>NaN</td>\n",
              "      <td>Marcas Superficiais</td>\n",
              "    </tr>\n",
              "  </tbody>\n",
              "</table>\n",
              "<p>1800 rows × 14 columns</p>\n",
              "</div>"
            ],
            "text/plain": [
              "      contrast  dissimilarity   homogeneity      ASM       energy  Label  \\\n",
              "0     12769357         562393   2747.881680   312782   559.269166      0   \n",
              "1      9580203         482361   3307.995564   289038   537.622544      0   \n",
              "2     10928946         517098   3084.553772   337650   581.076587      0   \n",
              "3     12465011         556457   2776.650206   372854   610.617720      0   \n",
              "4      6088850         375354   4293.162968   371518   609.522764      0   \n",
              "...        ...            ...           ...      ...          ...    ...   \n",
              "1795    878418         124428  11710.060699  2728618  1651.852899      5   \n",
              "1796    477005          93119  14425.559150  3308128  1818.825995      5   \n",
              "1797   1400820         151900  10458.336605  1487772  1219.742596      5   \n",
              "1798    368408          91122  13919.297455  3666654  1914.850908      5   \n",
              "1799    865120         135004  10594.912435  2229022  1492.990958      5   \n",
              "\n",
              "      Unnamed: 7         Unnamed: 8    contrast.1  dissimilarity.1  \\\n",
              "0            NaN             quebra  1.137901e+07    520695.140000   \n",
              "1            NaN           inclusão  3.818199e+05     91542.516667   \n",
              "2            NaN            manchas  9.701245e+06    449447.623333   \n",
              "3            NaN  corrosao por pite  2.296732e+06    210095.453333   \n",
              "4            NaN             carepa  2.210379e+06    231534.090000   \n",
              "...          ...                ...           ...              ...   \n",
              "1795         NaN                NaN           NaN              NaN   \n",
              "1796         NaN                NaN           NaN              NaN   \n",
              "1797         NaN                NaN           NaN              NaN   \n",
              "1798         NaN                NaN           NaN              NaN   \n",
              "1799         NaN                NaN           NaN              NaN   \n",
              "\n",
              "      homogeneity.1         ASM.1     energy.1             defeitos  \n",
              "0       3139.132210  3.585647e+05   594.820786               Quebra  \n",
              "1      14077.149180  4.476131e+06  2067.330784               Quebra  \n",
              "2       5721.048706  1.576351e+07  2404.479182               Quebra  \n",
              "3       9282.596266  1.294473e+07  2222.867379               Quebra  \n",
              "4       6393.583508  1.366001e+06  1151.400414               Quebra  \n",
              "...             ...           ...          ...                  ...  \n",
              "1795            NaN           NaN          NaN  Marcas Superficiais  \n",
              "1796            NaN           NaN          NaN  Marcas Superficiais  \n",
              "1797            NaN           NaN          NaN  Marcas Superficiais  \n",
              "1798            NaN           NaN          NaN  Marcas Superficiais  \n",
              "1799            NaN           NaN          NaN  Marcas Superficiais  \n",
              "\n",
              "[1800 rows x 14 columns]"
            ]
          },
          "metadata": {
            "tags": []
          },
          "execution_count": 68
        }
      ]
    },
    {
      "cell_type": "code",
      "metadata": {
        "id": "CiJEDaD5HpFu",
        "outputId": "893f9b0b-875c-4412-ee33-4c929f878307"
      },
      "source": [
        "X = features.iloc[:,0:5]\n",
        "from sklearn import preprocessing\n",
        "#X = X.T\n",
        "X = preprocessing.scale(X)\n",
        "#X = X.T\n",
        "Y = features.iloc[:,-1]\n",
        "X"
      ],
      "execution_count": null,
      "outputs": [
        {
          "output_type": "execute_result",
          "data": {
            "text/plain": [
              "array([[ 1.69863129,  1.67757721, -1.27361365, -0.25481436, -0.63918424],\n",
              "       [ 1.03680113,  1.21645759, -1.15500881, -0.25577716, -0.6507378 ],\n",
              "       [ 1.31669943,  1.41660143, -1.2023229 , -0.25380597, -0.62754486],\n",
              "       ...,\n",
              "       [-0.66062783, -0.68755644,  0.35908505, -0.20716914, -0.28666661],\n",
              "       [-0.87487945, -1.03774047,  1.09194793, -0.11881664,  0.08433686],\n",
              "       [-0.77179914, -0.78490596,  0.38800515, -0.17711185, -0.14082446]])"
            ]
          },
          "metadata": {
            "tags": []
          },
          "execution_count": 87
        }
      ]
    },
    {
      "cell_type": "code",
      "metadata": {
        "id": "CqsSTYV2HpFw"
      },
      "source": [
        "X_treino, X_teste, Y_treino, Y_teste = train_test_split(X, Y, test_size = 0.2, random_state = 18)"
      ],
      "execution_count": null,
      "outputs": []
    },
    {
      "cell_type": "code",
      "metadata": {
        "id": "-kl_HDIbHpFx"
      },
      "source": [
        "from sklearn import svm"
      ],
      "execution_count": null,
      "outputs": []
    },
    {
      "cell_type": "code",
      "metadata": {
        "id": "XkmYqJ3JHpFz"
      },
      "source": [
        "modelo1 = svm.SVC(kernel='rbf', C=2000, gamma = 1)"
      ],
      "execution_count": null,
      "outputs": []
    },
    {
      "cell_type": "code",
      "metadata": {
        "id": "louSCMKTHpF0",
        "outputId": "f994a602-5937-485a-feed-0439082769d5"
      },
      "source": [
        "modelo1.fit(X_treino, Y_treino)"
      ],
      "execution_count": null,
      "outputs": [
        {
          "output_type": "execute_result",
          "data": {
            "text/plain": [
              "SVC(C=2000, gamma=1)"
            ]
          },
          "metadata": {
            "tags": []
          },
          "execution_count": 336
        }
      ]
    },
    {
      "cell_type": "code",
      "metadata": {
        "id": "sHPrTEnTHpF2",
        "outputId": "702175cf-b986-4906-dde1-2e5625767d3f"
      },
      "source": [
        "modelo1.predict([[-0.66062783, -0.68755644,  0.35908505, -0.20716914, -0.28666661]])"
      ],
      "execution_count": null,
      "outputs": [
        {
          "output_type": "execute_result",
          "data": {
            "text/plain": [
              "array(['Marcas Superficiais'], dtype=object)"
            ]
          },
          "metadata": {
            "tags": []
          },
          "execution_count": 337
        }
      ]
    },
    {
      "cell_type": "code",
      "metadata": {
        "id": "rsjNuL1oHpF3",
        "outputId": "9c21ed57-c4fb-4fef-c066-e2ad850db124"
      },
      "source": [
        "accuracy_score(Y_treino, modelo1.predict(X_treino))"
      ],
      "execution_count": null,
      "outputs": [
        {
          "output_type": "execute_result",
          "data": {
            "text/plain": [
              "0.9652777777777778"
            ]
          },
          "metadata": {
            "tags": []
          },
          "execution_count": 338
        }
      ]
    },
    {
      "cell_type": "code",
      "metadata": {
        "id": "RDvr9pQDHpF5",
        "outputId": "24577475-7f0c-46f8-e458-fdef4b616313"
      },
      "source": [
        "accuracy_score(Y_teste, modelo1.predict(X_teste))"
      ],
      "execution_count": null,
      "outputs": [
        {
          "output_type": "execute_result",
          "data": {
            "text/plain": [
              "0.9583333333333334"
            ]
          },
          "metadata": {
            "tags": []
          },
          "execution_count": 339
        }
      ]
    },
    {
      "cell_type": "code",
      "metadata": {
        "id": "0-7552zLHpF6",
        "outputId": "52a4d79d-bff3-4e59-fa51-f066ebce9987"
      },
      "source": [
        "pred = modelo1.predict(X_teste)\n",
        "\n",
        "import matplotlib.pyplot as plt\n",
        "\n",
        "c_matrix = confusion_matrix(pred, Y_teste)\n",
        "ax = plt.subplot()\n",
        "sns.set(style=\"ticks\", color_codes=True, rc={\"figure.figsize\": (12, 8)}, font_scale=1.2)\n",
        "sns.heatmap(c_matrix, annot=True, ax = ax, annot_kws={\"size\": 12}, linewidths=1, cmap = \"bone\");\n",
        "ax.set_xlabel('Rótulos Previstos', size = '16'); ax.set_ylabel('Rótulos Verdadeiros', size = '16');\n",
        "ax.set_title('Matriz de Confusão', size = '18')\n",
        "ax.xaxis.set_ticklabels(choices, rotation = 45, ha = 'right'); ax.yaxis.set_ticklabels(choices, rotation = 45);"
      ],
      "execution_count": null,
      "outputs": [
        {
          "output_type": "display_data",
          "data": {
            "image/png": "[encoded data removed]",
            "text/plain": [
              "<Figure size 864x576 with 2 Axes>"
            ]
          },
          "metadata": {
            "tags": []
          }
        }
      ]
    },
    {
      "cell_type": "code",
      "metadata": {
        "id": "BoKG-KDjHpF9"
      },
      "source": [
        "#sns.pairplot(features[['contrast', 'dissimilarity', 'homogeneity',\n",
        "       # 'ASM','energy','defeitos']], hue='defeitos')"
      ],
      "execution_count": null,
      "outputs": []
    },
    {
      "cell_type": "code",
      "metadata": {
        "id": "NgfXMD89HpGA"
      },
      "source": [
        "from sklearn.model_selection import GridSearchCV\r\n",
        "params = {\r\n",
        "    'C' : [1, 10, 50, 100, 250, 500, 1000, 2000, 3000],\r\n",
        "    'kernel': ['linear', 'poly', 'rbf'],\r\n",
        "    'degree': [2, 3, 4, 5],\r\n",
        "    'gamma': [0.0001, 0.001, 0.01, 0.1 , 1, 5, 10]\r\n",
        "}\r\n",
        "grid_SVC = GridSearchCV(estimator = SVC(),\r\n",
        "                        param_grid = params,\r\n",
        "                        scoring = 'accuracy', \r\n",
        "                        cv = 4, \r\n",
        "                        verbose = 1,\r\n",
        "                        n_jobs = -1)\r\n",
        "grid_SVC.fit(X_treino, Y_treino)"
      ],
      "execution_count": null,
      "outputs": []
    }
  ]
}